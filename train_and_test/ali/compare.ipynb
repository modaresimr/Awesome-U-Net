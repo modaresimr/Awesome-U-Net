{
 "cells": [
  {
   "cell_type": "code",
   "execution_count": 71,
   "metadata": {},
   "outputs": [
    {
     "name": "stdout",
     "output_type": "stream",
     "text": [
      "['segpc2021_2c_multiresunet', 'isic2018_uctransnet_9', 'segpc2021_2c_adaptuctransnet_7', 'isic2018_uctransnet_7', 'segpc2021_transunet', 'segpc2021_unet', 'isic2018_multiresunet', 'isic2018_uctransnet_5', 'segpc2021_unetpp', 'isic2018_unet.yaml', 'segpc_c_adapt_unet', 'segpc2021_uctransnet', 'segpc_cn_unet.yaml', 'segpc2021_2c_attunet', 'segpc2021_multiresunet', 'isic2018_uctransnet', 'segpc_c_acda_unet', 'isic2018_uctransnet_15', 'isic2018_unet', 'segpc2021_attunet', 'segpc_c_unet.yaml', 'isic2018_uctransnet_19', 'segpc_c_unet', 'segpc2021_resunet', 'isic2018_resunet', 'isic2018_uctransnet_17', 'segpc2021_uctransnet_13', 'isic2018_adaptuctransnet_7', 'segpc2021_adaptconv_uctransnet_3', 'isic2018_uctransnet_21', 'segpc2021_2c_transunet', 'segpc2021_2c_uctransnet', 'segpc2021_uctransnet_11', 'isic2018_uctransnet_3', 'segpc2021_2c_unet', 'segpc2021_uctransnet_5', 'segpc2021_uctransnet_9', 'isic2018_uctransnet_11', 'segpc2021_uctransnet_7', 'isic2018_uctransnet_13', 'segpc_n_unet.yaml', 'segpc2021_2c_unetpp', 'segpc2021_adaptuctransnet_7', 'segpc2021_uctransnet_3', 'segpc2021_2c_resunet', 'isic2018_attunet']\n"
     ]
    },
    {
     "data": {
      "application/vnd.jupyter.widget-view+json": {
       "model_id": "2d67bc8b17804be291019aba5a10b622",
       "version_major": 2,
       "version_minor": 0
      },
      "text/plain": [
       "interactive(children=(Dropdown(description='dataset', options=('segpc_c', 'isic2018', 'segpc_cn', 'segpc_n'), …"
      ]
     },
     "metadata": {},
     "output_type": "display_data"
    },
    {
     "data": {
      "image/png": "[encoded data removed]",
      "text/plain": [
       "<Figure size 900x288 with 7 Axes>"
      ]
     },
     "metadata": {
      "needs_background": "light"
     },
     "output_type": "display_data"
    }
   ],
   "source": [
    "import sys,json\n",
    "import pandas as pd\n",
    "sys.path.append('../..')\n",
    "from utils import (\n",
    "    show_sbs,\n",
    "    load_config,\n",
    "    _print,\n",
    ")\n",
    "\n",
    "import os\n",
    "import ipywidgets as widgets\n",
    "\n",
    "import torch\n",
    "import torch.nn as nn\n",
    "import torch.nn.functional as F\n",
    "import torch.optim as optim\n",
    "import torchmetrics\n",
    "from torch.optim import Adam, SGD\n",
    "from losses import DiceLoss, DiceLossWithLogtis\n",
    "from torch.nn import BCELoss, CrossEntropyLoss\n",
    "import ali_utils\n",
    "\n",
    "# Set the directory path\n",
    "directory = '../../saved_models/'\n",
    "\n",
    "# Get the list of files in the directory\n",
    "file_list = os.listdir(directory)\n",
    "print(file_list)\n",
    "from tqdm import tqdm\n",
    "import numpy as np\n",
    "from torch.utils.data import DataLoader, Subset\n",
    "from torchvision import transforms\n",
    "img_transform = transforms.Compose([ transforms.ToTensor()])\n",
    "# transform for mask\n",
    "msk_transform = transforms.Compose([transforms.ToTensor()])\n",
    "msk_transform = torch.tensor\n",
    "\n",
    "from PIL import Image\n",
    "import cv2\n",
    "def get_model(model_dir):\n",
    "    config=load_config(f'{model_dir}/config.yaml')\n",
    "    device = 'cpu'#torch.device(\"cuda\" if torch.cuda.is_available() else \"cpu\")\n",
    "    device = torch.device(\"cuda\" if torch.cuda.is_available() else \"cpu\")\n",
    "    print(f\"Torch device: {device}\")\n",
    "\n",
    "\n",
    "\n",
    "    best_model = ali_utils.class_by_name(config['model']['class'])(**config['model']['params'])\n",
    "\n",
    "    torch.cuda.empty_cache()\n",
    "    best_model = best_model.to(device)\n",
    "\n",
    "    fn = \"best_model_state_dict.pt\"\n",
    "    model_path = f\"{model_dir}/{fn}\"\n",
    "\n",
    "    best_model.load_state_dict(torch.load(model_path))\n",
    "    print(\"Loaded best model weights...\")\n",
    "    return best_model\n",
    "\n",
    "from matplotlib import pyplot as plt\n",
    "@widgets.interact\n",
    "def datasets(dataset=os.listdir('ali_configs_new')):\n",
    "    dataset_config=load_config(f'ali_configs_new/{dataset}/_dataset.yaml')\n",
    "    dataset_config={**dataset_config, **load_config(f'ali_configs_new/{dataset}/_common.yaml')}\n",
    "    te_dataset = ali_utils.class_by_name(dataset_config['dataset']['class'])(mode=\"te\", **dataset_config['dataset'],img_transform=img_transform,msk_transform=msk_transform)\n",
    "    print(te_dataset.number_classes,dataset_config['dataset'])\n",
    "    \n",
    "    import ipyplot\n",
    "    @widgets.interact\n",
    "    def select_case(image_number=widgets.IntSlider(0,0,len(te_dataset))):\n",
    "        item=te_dataset[image_number]\n",
    "        img,msk=item['image'].cpu().numpy().astype('float32'),item['mask'].cpu().numpy().astype('float32')\n",
    "        \n",
    "        print(img.shape)\n",
    "        fig, axs = plt.subplots(1, te_dataset.number_classes, sharex=True, sharey=True)\n",
    "        fig.set_size_inches(1000/80, fig.get_figheight())\n",
    "\n",
    "        imgv=img=np.transpose(img,(1, 2, 0))\n",
    "        print(imgv.shape)\n",
    "        if img.shape[-1]==4:\n",
    "            imgv=img[...,:-1]\n",
    "            print(imgv.shape)\n",
    "\n",
    "        nonzero = np.where(imgv != 0)\n",
    "        roi=np.zeros((imgv.ndim,2))\n",
    "        for i in range(len(nonzero)):\n",
    "            if len(nonzero[i]) > 0:\n",
    "                roi[i][0] = max(0, nonzero[i].min())\n",
    "                roi[i][1] = min( imgv.shape[i], nonzero[i].max() + 1)\n",
    "                \n",
    "        axs[0].imshow(imgv)\n",
    "        axs[0].set_xlim(roi[1][0], roi[1][1])\n",
    "        axs[0].set_ylim(roi[0][0], roi[0][1])\n",
    "        # print(img.shape)\n",
    "        # debug_imgs=[img]\n",
    "        if(dataset.startswith('segpc')):\n",
    "            added=(img[...,-1]>0)*.1\n",
    "        # plt.imshow(imgs[image_number][:,:,:-1])\n",
    "        device = torch.device(\"cuda\" if torch.cuda.is_available() else \"cpu\")\n",
    "        for i in range(1,te_dataset.number_classes):\n",
    "            # plt.imshow(imgs[-1,0:3])\n",
    "            # debug_imgs.append(msk[i])\n",
    "            axs[i].imshow(msk[i]+added,cmap='gist_stern')\n",
    "            print(f'clsss:{i}',msk[i].max())\n",
    "        # ipyplot.plot_images(debug_imgs, max_images=4, img_width=150)\n",
    "        @widgets.interact_manual\n",
    "        def compare(dirs=widgets.SelectMultiple(options=[f for f in file_list if f.startswith(dataset)], description='Files',           layout=widgets.Layout(width='100%', height='180px')),titles=\"comma seperated\"):\n",
    "            fig, axs = plt.subplots(1, len(dirs)+2, sharex=True, sharey=True)\n",
    "            fig.set_size_inches(1000/80, fig.get_figheight())\n",
    "            \n",
    "            axs[0].imshow(imgv)\n",
    "            axs[0].set_xlim(roi[1][0], roi[1][1])\n",
    "            axs[0].set_ylim(roi[0][0], roi[0][1])\n",
    "            axs[1].set_title('GT')\n",
    "            plt.axis('off')\n",
    "            for i in range(len(axs)):\n",
    "                axs[i].axis('off')\n",
    "            \n",
    "            axs[1].imshow(np.argmax(msk,0)+added, cmap='gist_stern')\n",
    "            allmetrics={}\n",
    "            for i,d in enumerate(dirs):\n",
    "                display_name=d.replace(dataset+\"_\",'')\n",
    "                model=get_model(f'{directory}/{d}')\n",
    "                \n",
    "                prepared=torch.stack([transforms.ToTensor()(img).to(device)])\n",
    "                \n",
    "                preds=model(prepared)\n",
    "                pred=preds.detach().cpu().numpy()[0][1,...]\n",
    "                # print(pred.shape)\n",
    "                # print(pred.max())\n",
    "                axs[i+2].imshow((pred>0.5)+added, cmap='gist_stern')\n",
    "                axs[i+2].set_title(display_name)\n",
    "                with open(f'{directory}/{d}/result.json', 'r') as f:\n",
    "                    results = json.load(f)\n",
    "                allmetrics[display_name] = {k.split('/')[-1]:v for k,v in results['best_result']['te_metrics'].items()}\n",
    "\n",
    "            display(pd.DataFrame(allmetrics).T.round(4))\n",
    "\n",
    "            plt.tight_layout()\n",
    "            plt.show()  \n",
    "\n"
   ]
  },
  {
   "cell_type": "code",
   "execution_count": 26,
   "metadata": {},
   "outputs": [
    {
     "ename": "NameError",
     "evalue": "name 'img' is not defined",
     "output_type": "error",
     "traceback": [
      "\u001b[0;31m---------------------------------------------------------------------------\u001b[0m",
      "\u001b[0;31mNameError\u001b[0m                                 Traceback (most recent call last)",
      "\u001b[1;32m/raid/home/labusermodaresi/newImageMeta/Awesome-U-Net/train_and_test/ali/compare.ipynb Cell 2\u001b[0m in \u001b[0;36m<cell line: 1>\u001b[0;34m()\u001b[0m\n\u001b[0;32m----> <a href='vscode-notebook-cell://ssh-remote%2Blissi.modaresi.eu.org/raid/home/labusermodaresi/newImageMeta/Awesome-U-Net/train_and_test/ali/compare.ipynb#X11sdnNjb2RlLXJlbW90ZQ%3D%3D?line=0'>1</a>\u001b[0m img\u001b[39m.\u001b[39mshape\n",
      "\u001b[0;31mNameError\u001b[0m: name 'img' is not defined"
     ]
    }
   ],
   "source": [
    "img.shape"
   ]
  }
 ],
 "metadata": {
  "kernelspec": {
   "display_name": "Python 3",
   "language": "python",
   "name": "python3"
  },
  "language_info": {
   "codemirror_mode": {
    "name": "ipython",
    "version": 3
   },
   "file_extension": ".py",
   "mimetype": "text/x-python",
   "name": "python",
   "nbconvert_exporter": "python",
   "pygments_lexer": "ipython3",
   "version": "3.8.10"
  },
  "orig_nbformat": 4
 },
 "nbformat": 4,
 "nbformat_minor": 2
}
