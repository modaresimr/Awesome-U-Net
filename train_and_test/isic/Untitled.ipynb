{
 "cells": [
  {
   "cell_type": "code",
   "execution_count": 2,
   "id": "17473c20-693b-406d-993c-05355cb7ad47",
   "metadata": {},
   "outputs": [
    {
     "data": {
      "application/vnd.jupyter.widget-view+json": {
       "model_id": "776a0663129a44ddb5b78230d385f59c",
       "version_major": 2,
       "version_minor": 0
      },
      "text/plain": [
       "Button(description='Click Me', style=ButtonStyle())"
      ]
     },
     "metadata": {},
     "output_type": "display_data"
    },
    {
     "name": "stdout",
     "output_type": "stream",
     "text": [
      ".....................................................done\n"
     ]
    }
   ],
   "source": [
    "import time\n",
    "from ipywidgets import Button\n",
    "from jupyter_ui_poll import ui_events\n",
    "\n",
    "# Set up simple GUI, button with on_click callback\n",
    "# that sets ui_done=True and changes button text\n",
    "ui_done = False\n",
    "def on_click(btn):\n",
    "    global ui_done\n",
    "    ui_done = True\n",
    "    btn.description = '👍'\n",
    "\n",
    "btn = Button(description='Click Me')\n",
    "btn.on_click(on_click)\n",
    "display(btn)\n",
    "\n",
    "# Wait for user to press the button\n",
    "with ui_events() as poll:\n",
    "    while ui_done is False:\n",
    "        poll(10)          # React to UI events (upto 10 at a time)\n",
    "        print('.', end='')\n",
    "        time.sleep(0.1)\n",
    "print('done')"
   ]
  }
 ],
 "metadata": {
  "kernelspec": {
   "display_name": "Python 3 (ipykernel)",
   "language": "python",
   "name": "python3"
  },
  "language_info": {
   "codemirror_mode": {
    "name": "ipython",
    "version": 3
   },
   "file_extension": ".py",
   "mimetype": "text/x-python",
   "name": "python",
   "nbconvert_exporter": "python",
   "pygments_lexer": "ipython3",
   "version": "3.8.13"
  }
 },
 "nbformat": 4,
 "nbformat_minor": 5
}
