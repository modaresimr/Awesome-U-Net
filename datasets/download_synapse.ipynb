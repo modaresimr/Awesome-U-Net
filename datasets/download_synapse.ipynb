{
 "cells": [
  {
   "cell_type": "code",
   "execution_count": null,
   "metadata": {},
   "outputs": [],
   "source": [
    "import synapseclient \n",
    "import synapseutils \n",
    "\n",
    "syn = synapseclient.Synapse() \n",
    "syn.login('alim1369@gmail.com','a@1251369+') \n",
    "files = synapseutils.syncFromSynapse(syn, 'syn3193805') \n",
    "\n"
   ]
  }
 ],
 "metadata": {
  "language_info": {
   "name": "python"
  },
  "orig_nbformat": 4
 },
 "nbformat": 4,
 "nbformat_minor": 2
}
